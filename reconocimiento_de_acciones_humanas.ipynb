{
  "nbformat": 4,
  "nbformat_minor": 0,
  "metadata": {
    "colab": {
      "provenance": [],
      "collapsed_sections": [],
      "authorship_tag": "ABX9TyPIJSH7VLN8eDYwcxtTzdn+",
      "include_colab_link": true
    },
    "kernelspec": {
      "name": "python3",
      "display_name": "Python 3"
    },
    "language_info": {
      "name": "python"
    },
    "widgets": {
      "application/vnd.jupyter.widget-state+json": {
        "7d974f5ff6284dc2a12511de0c399b73": {
          "model_module": "@jupyter-widgets/controls",
          "model_name": "HBoxModel",
          "model_module_version": "1.5.0",
          "state": {
            "_dom_classes": [],
            "_model_module": "@jupyter-widgets/controls",
            "_model_module_version": "1.5.0",
            "_model_name": "HBoxModel",
            "_view_count": null,
            "_view_module": "@jupyter-widgets/controls",
            "_view_module_version": "1.5.0",
            "_view_name": "HBoxView",
            "box_style": "",
            "children": [
              "IPY_MODEL_f37ae89a90e242d79a2fadbb1f723eef",
              "IPY_MODEL_c9a2a3bad9be49aa9c253c947f411931",
              "IPY_MODEL_512691eb5cb04ec4af5280ba3a02b792"
            ],
            "layout": "IPY_MODEL_d18949f6ac3f441e8b00d24a84d6d57d"
          }
        },
        "f37ae89a90e242d79a2fadbb1f723eef": {
          "model_module": "@jupyter-widgets/controls",
          "model_name": "HTMLModel",
          "model_module_version": "1.5.0",
          "state": {
            "_dom_classes": [],
            "_model_module": "@jupyter-widgets/controls",
            "_model_module_version": "1.5.0",
            "_model_name": "HTMLModel",
            "_view_count": null,
            "_view_module": "@jupyter-widgets/controls",
            "_view_module_version": "1.5.0",
            "_view_name": "HTMLView",
            "description": "",
            "description_tooltip": null,
            "layout": "IPY_MODEL_0eb3358332ce429f988ea3fa246e2e3e",
            "placeholder": "​",
            "style": "IPY_MODEL_a5be2c84bc3745819b6db2f0211081e5",
            "value": "100%"
          }
        },
        "c9a2a3bad9be49aa9c253c947f411931": {
          "model_module": "@jupyter-widgets/controls",
          "model_name": "FloatProgressModel",
          "model_module_version": "1.5.0",
          "state": {
            "_dom_classes": [],
            "_model_module": "@jupyter-widgets/controls",
            "_model_module_version": "1.5.0",
            "_model_name": "FloatProgressModel",
            "_view_count": null,
            "_view_module": "@jupyter-widgets/controls",
            "_view_module_version": "1.5.0",
            "_view_name": "ProgressView",
            "bar_style": "success",
            "description": "",
            "description_tooltip": null,
            "layout": "IPY_MODEL_e207cfc8784a48ac93c9b9f7ac5e1bc1",
            "max": 53436566,
            "min": 0,
            "orientation": "horizontal",
            "style": "IPY_MODEL_eef553527ca94df19fa02c4acde26223",
            "value": 53436566
          }
        },
        "512691eb5cb04ec4af5280ba3a02b792": {
          "model_module": "@jupyter-widgets/controls",
          "model_name": "HTMLModel",
          "model_module_version": "1.5.0",
          "state": {
            "_dom_classes": [],
            "_model_module": "@jupyter-widgets/controls",
            "_model_module_version": "1.5.0",
            "_model_name": "HTMLModel",
            "_view_count": null,
            "_view_module": "@jupyter-widgets/controls",
            "_view_module_version": "1.5.0",
            "_view_name": "HTMLView",
            "description": "",
            "description_tooltip": null,
            "layout": "IPY_MODEL_2d10588646924e66a7322a44c0b8cece",
            "placeholder": "​",
            "style": "IPY_MODEL_8e2fac81136240a394d7454976f2da8d",
            "value": " 53436566/53436566 [00:12&lt;00:00, 7306693.67it/s]"
          }
        },
        "d18949f6ac3f441e8b00d24a84d6d57d": {
          "model_module": "@jupyter-widgets/base",
          "model_name": "LayoutModel",
          "model_module_version": "1.2.0",
          "state": {
            "_model_module": "@jupyter-widgets/base",
            "_model_module_version": "1.2.0",
            "_model_name": "LayoutModel",
            "_view_count": null,
            "_view_module": "@jupyter-widgets/base",
            "_view_module_version": "1.2.0",
            "_view_name": "LayoutView",
            "align_content": null,
            "align_items": null,
            "align_self": null,
            "border": null,
            "bottom": null,
            "display": null,
            "flex": null,
            "flex_flow": null,
            "grid_area": null,
            "grid_auto_columns": null,
            "grid_auto_flow": null,
            "grid_auto_rows": null,
            "grid_column": null,
            "grid_gap": null,
            "grid_row": null,
            "grid_template_areas": null,
            "grid_template_columns": null,
            "grid_template_rows": null,
            "height": null,
            "justify_content": null,
            "justify_items": null,
            "left": null,
            "margin": null,
            "max_height": null,
            "max_width": null,
            "min_height": null,
            "min_width": null,
            "object_fit": null,
            "object_position": null,
            "order": null,
            "overflow": null,
            "overflow_x": null,
            "overflow_y": null,
            "padding": null,
            "right": null,
            "top": null,
            "visibility": null,
            "width": null
          }
        },
        "0eb3358332ce429f988ea3fa246e2e3e": {
          "model_module": "@jupyter-widgets/base",
          "model_name": "LayoutModel",
          "model_module_version": "1.2.0",
          "state": {
            "_model_module": "@jupyter-widgets/base",
            "_model_module_version": "1.2.0",
            "_model_name": "LayoutModel",
            "_view_count": null,
            "_view_module": "@jupyter-widgets/base",
            "_view_module_version": "1.2.0",
            "_view_name": "LayoutView",
            "align_content": null,
            "align_items": null,
            "align_self": null,
            "border": null,
            "bottom": null,
            "display": null,
            "flex": null,
            "flex_flow": null,
            "grid_area": null,
            "grid_auto_columns": null,
            "grid_auto_flow": null,
            "grid_auto_rows": null,
            "grid_column": null,
            "grid_gap": null,
            "grid_row": null,
            "grid_template_areas": null,
            "grid_template_columns": null,
            "grid_template_rows": null,
            "height": null,
            "justify_content": null,
            "justify_items": null,
            "left": null,
            "margin": null,
            "max_height": null,
            "max_width": null,
            "min_height": null,
            "min_width": null,
            "object_fit": null,
            "object_position": null,
            "order": null,
            "overflow": null,
            "overflow_x": null,
            "overflow_y": null,
            "padding": null,
            "right": null,
            "top": null,
            "visibility": null,
            "width": null
          }
        },
        "a5be2c84bc3745819b6db2f0211081e5": {
          "model_module": "@jupyter-widgets/controls",
          "model_name": "DescriptionStyleModel",
          "model_module_version": "1.5.0",
          "state": {
            "_model_module": "@jupyter-widgets/controls",
            "_model_module_version": "1.5.0",
            "_model_name": "DescriptionStyleModel",
            "_view_count": null,
            "_view_module": "@jupyter-widgets/base",
            "_view_module_version": "1.2.0",
            "_view_name": "StyleView",
            "description_width": ""
          }
        },
        "e207cfc8784a48ac93c9b9f7ac5e1bc1": {
          "model_module": "@jupyter-widgets/base",
          "model_name": "LayoutModel",
          "model_module_version": "1.2.0",
          "state": {
            "_model_module": "@jupyter-widgets/base",
            "_model_module_version": "1.2.0",
            "_model_name": "LayoutModel",
            "_view_count": null,
            "_view_module": "@jupyter-widgets/base",
            "_view_module_version": "1.2.0",
            "_view_name": "LayoutView",
            "align_content": null,
            "align_items": null,
            "align_self": null,
            "border": null,
            "bottom": null,
            "display": null,
            "flex": null,
            "flex_flow": null,
            "grid_area": null,
            "grid_auto_columns": null,
            "grid_auto_flow": null,
            "grid_auto_rows": null,
            "grid_column": null,
            "grid_gap": null,
            "grid_row": null,
            "grid_template_areas": null,
            "grid_template_columns": null,
            "grid_template_rows": null,
            "height": null,
            "justify_content": null,
            "justify_items": null,
            "left": null,
            "margin": null,
            "max_height": null,
            "max_width": null,
            "min_height": null,
            "min_width": null,
            "object_fit": null,
            "object_position": null,
            "order": null,
            "overflow": null,
            "overflow_x": null,
            "overflow_y": null,
            "padding": null,
            "right": null,
            "top": null,
            "visibility": null,
            "width": null
          }
        },
        "eef553527ca94df19fa02c4acde26223": {
          "model_module": "@jupyter-widgets/controls",
          "model_name": "ProgressStyleModel",
          "model_module_version": "1.5.0",
          "state": {
            "_model_module": "@jupyter-widgets/controls",
            "_model_module_version": "1.5.0",
            "_model_name": "ProgressStyleModel",
            "_view_count": null,
            "_view_module": "@jupyter-widgets/base",
            "_view_module_version": "1.2.0",
            "_view_name": "StyleView",
            "bar_color": null,
            "description_width": ""
          }
        },
        "2d10588646924e66a7322a44c0b8cece": {
          "model_module": "@jupyter-widgets/base",
          "model_name": "LayoutModel",
          "model_module_version": "1.2.0",
          "state": {
            "_model_module": "@jupyter-widgets/base",
            "_model_module_version": "1.2.0",
            "_model_name": "LayoutModel",
            "_view_count": null,
            "_view_module": "@jupyter-widgets/base",
            "_view_module_version": "1.2.0",
            "_view_name": "LayoutView",
            "align_content": null,
            "align_items": null,
            "align_self": null,
            "border": null,
            "bottom": null,
            "display": null,
            "flex": null,
            "flex_flow": null,
            "grid_area": null,
            "grid_auto_columns": null,
            "grid_auto_flow": null,
            "grid_auto_rows": null,
            "grid_column": null,
            "grid_gap": null,
            "grid_row": null,
            "grid_template_areas": null,
            "grid_template_columns": null,
            "grid_template_rows": null,
            "height": null,
            "justify_content": null,
            "justify_items": null,
            "left": null,
            "margin": null,
            "max_height": null,
            "max_width": null,
            "min_height": null,
            "min_width": null,
            "object_fit": null,
            "object_position": null,
            "order": null,
            "overflow": null,
            "overflow_x": null,
            "overflow_y": null,
            "padding": null,
            "right": null,
            "top": null,
            "visibility": null,
            "width": null
          }
        },
        "8e2fac81136240a394d7454976f2da8d": {
          "model_module": "@jupyter-widgets/controls",
          "model_name": "DescriptionStyleModel",
          "model_module_version": "1.5.0",
          "state": {
            "_model_module": "@jupyter-widgets/controls",
            "_model_module_version": "1.5.0",
            "_model_name": "DescriptionStyleModel",
            "_view_count": null,
            "_view_module": "@jupyter-widgets/base",
            "_view_module_version": "1.2.0",
            "_view_name": "StyleView",
            "description_width": ""
          }
        }
      }
    }
  },
  "cells": [
    {
      "cell_type": "markdown",
      "metadata": {
        "id": "view-in-github",
        "colab_type": "text"
      },
      "source": [
        "<a href=\"https://colab.research.google.com/github/JorgeTonatiuh/aprendizaje_profundo_tarea_2/blob/main/reconocimiento_de_acciones_humanas.ipynb\" target=\"_parent\"><img src=\"https://colab.research.google.com/assets/colab-badge.svg\" alt=\"Open In Colab\"/></a>"
      ]
    },
    {
      "cell_type": "markdown",
      "source": [
        "# Reconocimiento de acciones humanas"
      ],
      "metadata": {
        "id": "rn0cd24Nh-Am"
      }
    },
    {
      "cell_type": "markdown",
      "source": [
        "Comparar arquitecturas RNN y CNN para reconocimiento de acciones humanas en el conjunto UCF11. La solución debe cumplir con los siguientes puntos.\n",
        "\n",
        "- Usar las características convolucionales vistas en clase\n",
        "- Implementar una arquitectura RNN bidireccional con una capa GRU.\n",
        "- Implementar una arquitectura CNN con una capa Conv1d.\n",
        "- Modificar el tamaño de las capas para que ambos modelos tengan un número similar de parámetros.\n",
        "- Discutir el comportamiento durante el entrenamiento y resultados finales en ambos conjuntos.\n"
      ],
      "metadata": {
        "id": "O2w9Djv7iAqU"
      }
    },
    {
      "cell_type": "markdown",
      "source": [
        "# 1 Preparación"
      ],
      "metadata": {
        "id": "iWA5ZkYRj4TA"
      }
    },
    {
      "cell_type": "code",
      "source": [
        "# Colab\n",
        "# https://github.com/TylerYep/torchinfo\n",
        "!pip install torchinfo\n",
        "# https://zarr.readthedocs.io/en/stable/\n",
        "!pip install zarr"
      ],
      "metadata": {
        "colab": {
          "base_uri": "https://localhost:8080/"
        },
        "id": "xUEn1rnyncTU",
        "outputId": "8fb4d8dc-52dc-4cac-e4d7-37c7047e139b"
      },
      "execution_count": 2,
      "outputs": [
        {
          "output_type": "stream",
          "name": "stdout",
          "text": [
            "Looking in indexes: https://pypi.org/simple, https://us-python.pkg.dev/colab-wheels/public/simple/\n",
            "Collecting torchinfo\n",
            "  Downloading torchinfo-1.7.1-py3-none-any.whl (22 kB)\n",
            "Installing collected packages: torchinfo\n",
            "Successfully installed torchinfo-1.7.1\n",
            "Looking in indexes: https://pypi.org/simple, https://us-python.pkg.dev/colab-wheels/public/simple/\n",
            "Collecting zarr\n",
            "  Downloading zarr-2.12.0-py3-none-any.whl (185 kB)\n",
            "\u001b[K     |████████████████████████████████| 185 kB 4.8 MB/s \n",
            "\u001b[?25hCollecting numcodecs>=0.6.4\n",
            "  Downloading numcodecs-0.10.2-cp37-cp37m-manylinux_2_17_x86_64.manylinux2014_x86_64.whl (6.6 MB)\n",
            "\u001b[K     |████████████████████████████████| 6.6 MB 60.2 MB/s \n",
            "\u001b[?25hRequirement already satisfied: numpy>=1.7 in /usr/local/lib/python3.7/dist-packages (from zarr) (1.21.6)\n",
            "Collecting fasteners\n",
            "  Downloading fasteners-0.18-py3-none-any.whl (18 kB)\n",
            "Collecting asciitree\n",
            "  Downloading asciitree-0.3.3.tar.gz (4.0 kB)\n",
            "Requirement already satisfied: typing-extensions>=3.7.4 in /usr/local/lib/python3.7/dist-packages (from numcodecs>=0.6.4->zarr) (4.1.1)\n",
            "Requirement already satisfied: entrypoints in /usr/local/lib/python3.7/dist-packages (from numcodecs>=0.6.4->zarr) (0.4)\n",
            "Building wheels for collected packages: asciitree\n",
            "  Building wheel for asciitree (setup.py) ... \u001b[?25l\u001b[?25hdone\n",
            "  Created wheel for asciitree: filename=asciitree-0.3.3-py3-none-any.whl size=5050 sha256=5092aec58dc1f97202d2f9685e522f3509bdfcceac28db014e8fa3361c3a032e\n",
            "  Stored in directory: /root/.cache/pip/wheels/12/1c/38/0def51e15add93bff3f4bf9c248b94db0839b980b8535e72a0\n",
            "Successfully built asciitree\n",
            "Installing collected packages: numcodecs, fasteners, asciitree, zarr\n",
            "Successfully installed asciitree-0.3.3 fasteners-0.18 numcodecs-0.10.2 zarr-2.12.0\n"
          ]
        }
      ]
    },
    {
      "cell_type": "markdown",
      "source": [
        "## 1.1 Bibliotecas"
      ],
      "metadata": {
        "id": "J83ly4oLj_gY"
      }
    },
    {
      "cell_type": "code",
      "source": [
        "# sistema de archivos\n",
        "import os\n",
        "# funciones aleatorias\n",
        "import random\n",
        "# descomprimir\n",
        "import tarfile\n",
        "# sistema de archivos\n",
        "from os.path import join\n",
        "# tomar n elementos de una secuencia\n",
        "from itertools import islice as take\n",
        "# gráficas\n",
        "import matplotlib.pyplot as plt\n",
        "# arreglos multidimensionales\n",
        "import numpy as np\n",
        "# redes neuronales\n",
        "import torch\n",
        "import torch.nn as nn\n",
        "import torch.nn.functional as F\n",
        "import torch.optim as optim\n",
        "import torchvision.datasets.utils as tvu\n",
        "# almacenamiento de arreglos multidimensionales\n",
        "import zarr\n",
        "#redes\n",
        "from torch.utils.data import DataLoader, random_split\n",
        "# inspección de arquitectura\n",
        "from torchinfo import summary\n",
        "\n",
        "# directorio de datos\n",
        "DATA_DIR = '../data'\n",
        "\n",
        "# tamaño del lote\n",
        "BATCH_SIZE = 32\n",
        "# tamaño del vector de características\n",
        "FEAT_SIZE = 1024\n",
        "\n",
        "# reproducibilidad\n",
        "SEED = 0\n",
        "random.seed(SEED)\n",
        "np.random.seed(SEED)\n",
        "torch_gen = torch.manual_seed(SEED)"
      ],
      "metadata": {
        "id": "S2OrzWrciM7Z"
      },
      "execution_count": 3,
      "outputs": []
    },
    {
      "cell_type": "markdown",
      "source": [
        "# 2 Datos\n",
        "\n",
        "Para realizar la comparativa se utilizará el conjunto UCF11 así como las características convolucionales vistas en clase.\n",
        "\n",
        "- El conjunto UCF11 contiene 11 categorias de acciones: basketball shooting, biking/cycling, diving, golf swinging, horse back riding, soccer juggling, swinging, tennis swinging, trampoline jumping, volleyball spiking, and walking with a dog.\n",
        "- Para cada categoría, los videos se agrupan en 25 grupos con más de 4 clips de acción. Los videoclips del mismo grupo comparten algunas características comunes, como el mismo actor, un fondo similar, un punto de vista similar, etc.\n",
        "\n",
        "Las características se obtuvieron en clase aplicando el modelo densenet121 de Torchvision a los clips, con esto se generaron embeddings de 10 muestras de cada clip.\n",
        "\n",
        "Estas características o embedding son los que se utilizarán para entrenar tanto un modelo RNN como un CNN (conv1d).\n"
      ],
      "metadata": {
        "id": "QLoUF1GikSnZ"
      }
    },
    {
      "cell_type": "markdown",
      "source": [
        "## 2.1 Conjunto de Datos"
      ],
      "metadata": {
        "id": "KmWi2iP1kgQy"
      }
    },
    {
      "cell_type": "markdown",
      "source": [
        "Descarga de conjunto de características de clips de UCF11"
      ],
      "metadata": {
        "id": "0qXG5p4xM365"
      }
    },
    {
      "cell_type": "code",
      "source": [
        "class UCF11:\n",
        "\n",
        "    def __init__(self, root, download=False):\n",
        "        self.root = root\n",
        "        self.zarr_dir = join(root, 'ucf11.zarr')\n",
        "        if download:\n",
        "            self.download()\n",
        "        self.z = zarr.open(self.zarr_dir, 'r')\n",
        "        self.paths = list(self.z.array_keys())\n",
        "        \n",
        "    def __getitem__(self, i):\n",
        "        arr = self.z[self.paths[i]]\n",
        "        x = np.array(arr)\n",
        "        y = np.array(arr.attrs['y'], dtype=np.int64)\n",
        "        return x, y\n",
        "\n",
        "    def __len__(self):\n",
        "        return len(self.paths)\n",
        "    \n",
        "    def _check_integrity(self):\n",
        "        return os.path.isdir(self.zarr_dir)\n",
        "    \n",
        "    def _extract(self, root, filename):\n",
        "        tar = tarfile.open(join(root, filename), \"r:gz\")\n",
        "        tar.extractall(root)\n",
        "        tar.close()\n",
        "\n",
        "    def download(self):\n",
        "        if self._check_integrity():\n",
        "            print('Files already downloaded and verified')\n",
        "            return\n",
        "        tvu.download_url(\n",
        "            url='https://cloud.xibalba.com.mx/s/apYrNA4iM4K65o7/download',\n",
        "            root=self.root,\n",
        "            filename='ucf11.zarr.tar.gz',\n",
        "            md5='c8a82454f9ec092d00bcd99c849e03fd'\n",
        "        )\n",
        "        self._extract(self.root, 'ucf11.zarr.tar.gz')"
      ],
      "metadata": {
        "id": "eWgItX6fkpQQ"
      },
      "execution_count": 4,
      "outputs": []
    },
    {
      "cell_type": "markdown",
      "source": [
        "## 2.2 Instancia del conjunto y partición."
      ],
      "metadata": {
        "id": "4YEiVWdJ9qa8"
      }
    },
    {
      "cell_type": "code",
      "source": [
        "ds = UCF11(join(DATA_DIR, 'ucf11'), True)\n",
        "x, y = ds[0]\n",
        "print(f'x shape={x.shape} dtype={x.dtype}')\n",
        "print(f'x [0][:5]={x[0][:5]}')\n",
        "print(f'y shape={y.shape} dtype={y.dtype} {y}')\n",
        "print(f'y {y}')"
      ],
      "metadata": {
        "colab": {
          "base_uri": "https://localhost:8080/",
          "height": 138,
          "referenced_widgets": [
            "7d974f5ff6284dc2a12511de0c399b73",
            "f37ae89a90e242d79a2fadbb1f723eef",
            "c9a2a3bad9be49aa9c253c947f411931",
            "512691eb5cb04ec4af5280ba3a02b792",
            "d18949f6ac3f441e8b00d24a84d6d57d",
            "0eb3358332ce429f988ea3fa246e2e3e",
            "a5be2c84bc3745819b6db2f0211081e5",
            "e207cfc8784a48ac93c9b9f7ac5e1bc1",
            "eef553527ca94df19fa02c4acde26223",
            "2d10588646924e66a7322a44c0b8cece",
            "8e2fac81136240a394d7454976f2da8d"
          ]
        },
        "id": "92mepNj43Zp3",
        "outputId": "e97b2979-4a08-4aec-ac52-aec4d9c8a03c"
      },
      "execution_count": 5,
      "outputs": [
        {
          "output_type": "stream",
          "name": "stdout",
          "text": [
            "Downloading https://cloud.xibalba.com.mx/s/apYrNA4iM4K65o7/download to ../data/ucf11/ucf11.zarr.tar.gz\n"
          ]
        },
        {
          "output_type": "display_data",
          "data": {
            "text/plain": [
              "  0%|          | 0/53436566 [00:00<?, ?it/s]"
            ],
            "application/vnd.jupyter.widget-view+json": {
              "version_major": 2,
              "version_minor": 0,
              "model_id": "7d974f5ff6284dc2a12511de0c399b73"
            }
          },
          "metadata": {}
        },
        {
          "output_type": "stream",
          "name": "stdout",
          "text": [
            "x shape=(10, 1024) dtype=float32\n",
            "x [0][:5]=[0.00022111 0.00368518 0.00314753 0.00201778 0.09296297]\n",
            "y shape=() dtype=int64 0\n",
            "y 0\n"
          ]
        }
      ]
    },
    {
      "cell_type": "markdown",
      "source": [
        "Se divide el dataset en 80% entrenamiento 20% prueba."
      ],
      "metadata": {
        "id": "RfoYiZnIei7V"
      }
    },
    {
      "cell_type": "code",
      "source": [
        "trn_size = int(0.8 * len(ds))\n",
        "tst_size = len(ds) - trn_size\n",
        "trn_ds, tst_ds = random_split(ds, [trn_size, tst_size])\n",
        "len(trn_ds), len(tst_ds)"
      ],
      "metadata": {
        "id": "K4dkK0lF94hz",
        "colab": {
          "base_uri": "https://localhost:8080/"
        },
        "outputId": "3dd11878-5f9b-4bd4-ae9e-7525c13b3c4a"
      },
      "execution_count": 6,
      "outputs": [
        {
          "output_type": "execute_result",
          "data": {
            "text/plain": [
              "(1279, 320)"
            ]
          },
          "metadata": {},
          "execution_count": 6
        }
      ]
    },
    {
      "cell_type": "markdown",
      "source": [
        "## 2.3 Cargadores de datos"
      ],
      "metadata": {
        "id": "H-9Qw7l99_-B"
      }
    },
    {
      "cell_type": "code",
      "source": [
        "trn_dl = DataLoader(\n",
        "    # conjunto\n",
        "    trn_ds,\n",
        "    # tamaño del lote\n",
        "    batch_size=BATCH_SIZE,\n",
        "    # desordenar\n",
        "    shuffle=True,\n",
        "    # procesos paralelos\n",
        "    num_workers=2\n",
        ")\n",
        "tst_dl = DataLoader(\n",
        "    # conjunto\n",
        "    tst_ds,\n",
        "    # tamaño del lote\n",
        "    batch_size=BATCH_SIZE,\n",
        "    # desordenar\n",
        "    shuffle=True,\n",
        "    # procesos paralelos\n",
        "    num_workers=2\n",
        ")"
      ],
      "metadata": {
        "id": "_P_xnU8T-HgB"
      },
      "execution_count": 7,
      "outputs": []
    },
    {
      "cell_type": "code",
      "source": [
        "x, y = next(iter(trn_dl))\n",
        "print(f'x shape={x.shape} dtype={x.dtype}')\n",
        "print(f'y shape={y.shape} dtype={y.dtype}')"
      ],
      "metadata": {
        "id": "NoS4lCDZ-JZn",
        "colab": {
          "base_uri": "https://localhost:8080/"
        },
        "outputId": "b50cc789-15c5-4319-e8a5-9941d3806161"
      },
      "execution_count": 8,
      "outputs": [
        {
          "output_type": "stream",
          "name": "stdout",
          "text": [
            "x shape=torch.Size([32, 10, 1024]) dtype=torch.float32\n",
            "y shape=torch.Size([32]) dtype=torch.int64\n"
          ]
        }
      ]
    },
    {
      "cell_type": "markdown",
      "source": [
        "# 3 Modelo RNN\n",
        "\n",
        "Implementar una arquitectura RNN bidireccional con una capa GRU."
      ],
      "metadata": {
        "id": "osHoDTyH-UfM"
      }
    },
    {
      "cell_type": "markdown",
      "source": [
        "## 3.1 Definición de arquitectura"
      ],
      "metadata": {
        "id": "xwgDFf04-cFk"
      }
    },
    {
      "cell_type": "markdown",
      "source": [
        "Se define una red recurrente bidireccional con capa GRU, el valor agregado que tiene este tipo de modelo es que agrega una RNN extra independeinte, entonces la entrada pasa en tiempo normal por una de las RNN y posteriormente en reversa por la otra RNN.\n",
        "\n",
        "Esto ayuda a tener información de la secuencia tanto de un sentido adelante como del sentido hacia atras."
      ],
      "metadata": {
        "id": "fAM46Tc5B9om"
      }
    },
    {
      "cell_type": "code",
      "source": [
        "class RNN(nn.Module):\n",
        "\n",
        "    def __init__(self, input_size=1024, hidden_size=128, num_classes=11):\n",
        "        super().__init__()\n",
        "        self.bn = nn.BatchNorm1d(input_size)\n",
        "        self.rnn = nn.GRU(input_size=input_size, hidden_size=hidden_size,\n",
        "                          num_layers=1, batch_first=True, bidirectional=True)\n",
        "        self.cls = nn.Linear(hidden_size*2, num_classes)\n",
        "\n",
        "    def forward(self, x):\n",
        "        # Batch, Seq, Feats, Hidden\n",
        "        # [B, S, F] => [B, F, S]\n",
        "        x = x.movedim(1, 2)\n",
        "        # [B, F, S]\n",
        "        x = self.bn(x)\n",
        "        # [B, F, S] => [B, S, F]\n",
        "        x = x.movedim(1, 2)\n",
        "        # [B, S, F] => [B, S, H]\n",
        "        x, _ = self.rnn(x)\n",
        "        # [B, S, H] => [B, H]\n",
        "        # toma el último paso, participación 1\n",
        "        x = x[:, -1, :]\n",
        "        # [B, H] = [B, 11]\n",
        "        x = self.cls(x)\n",
        "        return x"
      ],
      "metadata": {
        "id": "fOzybGOT-gbw"
      },
      "execution_count": 31,
      "outputs": []
    },
    {
      "cell_type": "markdown",
      "source": [
        "Prueba de arquitectura con datos sinteticos"
      ],
      "metadata": {
        "id": "orUbskMO-z19"
      }
    },
    {
      "cell_type": "code",
      "source": [
        "model = RNN().eval()\n",
        "model(torch.zeros(1, 10, 1024)).shape\n"
      ],
      "metadata": {
        "colab": {
          "base_uri": "https://localhost:8080/"
        },
        "id": "vM6CgexU-t_g",
        "outputId": "d5c24185-9fed-48c2-c098-718b3f0277b5"
      },
      "execution_count": 45,
      "outputs": [
        {
          "output_type": "execute_result",
          "data": {
            "text/plain": [
              "torch.Size([1, 11])"
            ]
          },
          "metadata": {},
          "execution_count": 45
        }
      ]
    },
    {
      "cell_type": "markdown",
      "source": [
        "## 3.2 Inspección de arquitectura"
      ],
      "metadata": {
        "id": "2Hfxn5Nr-9Ew"
      }
    },
    {
      "cell_type": "code",
      "source": [
        "summary(model, (1, 10, 1024), device='cpu', verbose=0)"
      ],
      "metadata": {
        "colab": {
          "base_uri": "https://localhost:8080/"
        },
        "id": "CsO_jrNr_BLU",
        "outputId": "1d0ba7d4-a494-4802-de3a-f7104ad5f2b8"
      },
      "execution_count": 46,
      "outputs": [
        {
          "output_type": "execute_result",
          "data": {
            "text/plain": [
              "==========================================================================================\n",
              "Layer (type:depth-idx)                   Output Shape              Param #\n",
              "==========================================================================================\n",
              "RNN                                      [1, 11]                   --\n",
              "├─BatchNorm1d: 1-1                       [1, 1024, 10]             2,048\n",
              "├─GRU: 1-2                               [1, 10, 256]              886,272\n",
              "├─Linear: 1-3                            [1, 11]                   2,827\n",
              "==========================================================================================\n",
              "Total params: 891,147\n",
              "Trainable params: 891,147\n",
              "Non-trainable params: 0\n",
              "Total mult-adds (M): 8.87\n",
              "==========================================================================================\n",
              "Input size (MB): 0.04\n",
              "Forward/backward pass size (MB): 0.10\n",
              "Params size (MB): 3.56\n",
              "Estimated Total Size (MB): 3.71\n",
              "=========================================================================================="
            ]
          },
          "metadata": {},
          "execution_count": 46
        }
      ]
    },
    {
      "cell_type": "markdown",
      "source": [
        "# 4 Entrenamiento"
      ],
      "metadata": {
        "id": "NpGIsJcZAW0K"
      }
    },
    {
      "cell_type": "markdown",
      "source": [
        "## 4.1 Ciclo de entrenamiento"
      ],
      "metadata": {
        "id": "4QD0gb0nAZnl"
      }
    },
    {
      "cell_type": "code",
      "source": [
        "# optimizador\n",
        "opt = optim.Adam(model.parameters(), lr=1e-3)\n",
        "# historial de pérdida\n",
        "loss_hist, acc_hist = [],[]\n",
        "loss_tr_hist = []\n",
        "# ciclo de entrenamiento\n",
        "EPOCHS = 50\n",
        "for epoch in range(EPOCHS):\n",
        "\n",
        "    # modelo en modo de entrenamiento\n",
        "    model.train()\n",
        "    losses_trn = []\n",
        "\n",
        "    # entrenamiento de una época\n",
        "    for x, y_true in trn_dl:\n",
        "        # hacemos inferencia para obtener los logits\n",
        "        y_lgts = model(x)\n",
        "        # calculamos la pérdida\n",
        "        loss = F.cross_entropy(y_lgts, y_true)\n",
        "        # vaciamos los gradientes\n",
        "        opt.zero_grad()\n",
        "        # retropropagamos\n",
        "        loss.backward()\n",
        "        # actulizamos parámetros\n",
        "        opt.step()\n",
        "        losses_trn.append(loss.item() * 100)\n",
        "    \n",
        "    loss = np.mean(losses)\n",
        "    loss_tr_hist.append(loss)\n",
        "\n",
        "    # desactivamos temporalmente la gráfica de cómputo\n",
        "    with torch.no_grad():\n",
        "\n",
        "        # modelo en modo de evaluación\n",
        "        model.eval()\n",
        "        \n",
        "        losses, accs = [], []\n",
        "        # validación de la época\n",
        "        for x, y_true in tst_dl:\n",
        "            # hacemos inferencia para obtener los logits\n",
        "            y_lgts = model(x)\n",
        "            # calculamos las probabilidades\n",
        "            y_prob = F.softmax(y_lgts, 1)\n",
        "            # obtenemos la clase predicha\n",
        "            y_pred = torch.argmax(y_prob, 1)\n",
        "            \n",
        "            # calculamos la pérdida\n",
        "            loss = F.cross_entropy(y_lgts, y_true)\n",
        "            # calculamos la exactitud\n",
        "            acc = (y_true == y_pred).type(torch.float32).mean()\n",
        "\n",
        "            # guardamos históricos\n",
        "            losses.append(loss.item() * 100)\n",
        "            accs.append(acc.item() * 100)\n",
        "\n",
        "        # imprimimos métricas\n",
        "        loss = np.mean(losses)\n",
        "        acc = np.mean(accs)\n",
        "        print(f'E{epoch:2} loss={loss:6.2f} acc={acc:.2f}')\n",
        "        # agregagmos al historial de pérdidas\n",
        "        loss_hist.append(loss)\n",
        "        acc_hist.append(acc)"
      ],
      "metadata": {
        "id": "4oZHWV2FAcUJ",
        "colab": {
          "base_uri": "https://localhost:8080/"
        },
        "outputId": "2cb7342a-171e-487d-eadb-f44939c9d1b0"
      },
      "execution_count": 47,
      "outputs": [
        {
          "output_type": "stream",
          "name": "stdout",
          "text": [
            "E 0 loss=203.85 acc=34.06\n",
            "E 1 loss=177.71 acc=42.50\n",
            "E 2 loss=167.36 acc=45.31\n",
            "E 3 loss=157.05 acc=48.44\n",
            "E 4 loss=157.57 acc=48.44\n",
            "E 5 loss=155.75 acc=49.69\n",
            "E 6 loss=156.86 acc=51.56\n",
            "E 7 loss=157.26 acc=53.44\n",
            "E 8 loss=161.12 acc=52.50\n",
            "E 9 loss=159.29 acc=51.88\n",
            "E10 loss=162.33 acc=51.88\n",
            "E11 loss=164.12 acc=53.44\n",
            "E12 loss=165.42 acc=54.38\n",
            "E13 loss=167.23 acc=54.38\n",
            "E14 loss=165.48 acc=54.69\n",
            "E15 loss=172.51 acc=53.12\n",
            "E16 loss=169.60 acc=54.69\n",
            "E17 loss=170.99 acc=53.75\n",
            "E18 loss=169.61 acc=56.88\n",
            "E19 loss=175.08 acc=53.75\n",
            "E20 loss=173.66 acc=54.69\n",
            "E21 loss=173.21 acc=55.31\n",
            "E22 loss=174.48 acc=55.00\n",
            "E23 loss=172.70 acc=57.19\n",
            "E24 loss=172.96 acc=56.56\n",
            "E25 loss=173.27 acc=56.25\n",
            "E26 loss=173.10 acc=57.81\n",
            "E27 loss=173.06 acc=58.12\n",
            "E28 loss=175.56 acc=55.00\n",
            "E29 loss=176.98 acc=56.88\n",
            "E30 loss=183.15 acc=55.94\n",
            "E31 loss=186.39 acc=55.31\n",
            "E32 loss=203.85 acc=45.62\n",
            "E33 loss=187.81 acc=50.62\n",
            "E34 loss=186.54 acc=50.94\n",
            "E35 loss=179.64 acc=52.19\n",
            "E36 loss=180.79 acc=53.44\n",
            "E37 loss=182.91 acc=52.81\n",
            "E38 loss=187.51 acc=53.12\n",
            "E39 loss=184.76 acc=53.44\n",
            "E40 loss=184.42 acc=54.69\n",
            "E41 loss=184.30 acc=54.06\n",
            "E42 loss=185.05 acc=55.94\n",
            "E43 loss=189.83 acc=55.00\n",
            "E44 loss=191.46 acc=54.06\n",
            "E45 loss=191.46 acc=55.00\n",
            "E46 loss=190.47 acc=53.44\n",
            "E47 loss=190.26 acc=53.75\n",
            "E48 loss=192.21 acc=55.00\n",
            "E49 loss=190.99 acc=55.00\n"
          ]
        }
      ]
    },
    {
      "cell_type": "markdown",
      "source": [
        "## 4.2 Gráfica de la pérdida"
      ],
      "metadata": {
        "id": "e0lcfaMYg4-9"
      }
    },
    {
      "cell_type": "markdown",
      "source": [
        "El modelo se ejecuta por 50 épocas, y posteriormente se imprime la perdida durante el entrenamiento y con el conjunto de validación."
      ],
      "metadata": {
        "id": "X3Z9PyPFD-Bw"
      }
    },
    {
      "cell_type": "code",
      "source": [
        "fig, axs = plt.subplots(nrows=1, ncols=2, figsize=(15,5))\n",
        "\n",
        "axs[0].plot(loss_hist, 'r', label='Perdida')\n",
        "axs[0].title.set_text('Entrenamiento')\n",
        "axs[0].set_xlabel(u'Época')\n",
        "axs[0].legend()\n",
        "\n",
        "axs[1].plot(loss_tr_hist, 'r', label='Perdida')\n",
        "axs[1].title.set_text(\"Validación\")\n",
        "axs[1].set_xlabel(u'Época')\n",
        "axs[1].legend()\n",
        "plt.show()"
      ],
      "metadata": {
        "colab": {
          "base_uri": "https://localhost:8080/",
          "height": 352
        },
        "id": "TryBP3z3EOT5",
        "outputId": "26aa3c26-d13c-46c2-81e1-2c6876eef755"
      },
      "execution_count": 49,
      "outputs": [
        {
          "output_type": "display_data",
          "data": {
            "text/plain": [
              "<Figure size 1080x360 with 2 Axes>"
            ],
            "image/png": "[encoded data removed]"
          },
          "metadata": {
            "needs_background": "light"
          }
        }
      ]
    },
    {
      "cell_type": "markdown",
      "source": [
        "Grafica de la exactitud en conjunto de validación."
      ],
      "metadata": {
        "id": "0Bw3p3SMK_L_"
      }
    },
    {
      "cell_type": "code",
      "source": [
        "plt.plot(acc_hist, color='b')\n",
        "plt.xlabel('época')\n",
        "plt.ylabel('Exactitud')\n",
        "plt.show()"
      ],
      "metadata": {
        "colab": {
          "base_uri": "https://localhost:8080/",
          "height": 280
        },
        "id": "DhXzhfelK287",
        "outputId": "e14e5f81-20ca-404c-834b-05f356d69ba9"
      },
      "execution_count": 50,
      "outputs": [
        {
          "output_type": "display_data",
          "data": {
            "text/plain": [
              "<Figure size 432x288 with 1 Axes>"
            ],
            "image/png": "[encoded data removed]"
          },
          "metadata": {
            "needs_background": "light"
          }
        }
      ]
    },
    {
      "cell_type": "markdown",
      "source": [
        "# 4 Modelo CNN"
      ],
      "metadata": {
        "id": "Ivn10EJRSSiN"
      }
    },
    {
      "cell_type": "markdown",
      "source": [
        "Implementar una arquitectura CNN con una capa Conv1d."
      ],
      "metadata": {
        "id": "D5y3DWs7SZLn"
      }
    },
    {
      "cell_type": "markdown",
      "source": [
        "## 4.1 Definición de la arquitectura."
      ],
      "metadata": {
        "id": "OISedKPGSdFs"
      }
    },
    {
      "cell_type": "markdown",
      "source": [
        "Se define una modelo de CNN con capa Conv1d, se modifican los parámetros de la capa de convolución para obtener unos parametros totales similares a los que tiene la RNN."
      ],
      "metadata": {
        "id": "sQXveYvwO6re"
      }
    },
    {
      "cell_type": "code",
      "source": [
        "# definición del modelo\n",
        "class CNN(nn.Module):\n",
        "    \n",
        "    # inicializador\n",
        "    def __init__(self):\n",
        "        # inicilización del objeto padre, obligatorio\n",
        "        super(CNN, self).__init__()\n",
        "        self.num_feats = 1 * 285 * 5\n",
        "        self.cnn = nn.Sequential(\n",
        "            nn.Conv1d(in_channels=1024, out_channels=285, kernel_size=3, padding=1),\n",
        "            nn.ReLU(),\n",
        "            nn.MaxPool1d(kernel_size=2, stride=2) \n",
        "        )                     \n",
        "        self.flatten = nn.Flatten()        \n",
        "        self.cls = nn.Linear(self.num_feats, 11)\n",
        "    \n",
        "    # metodo para inferencia\n",
        "    def forward(self, x):  \n",
        "        # Batch, Seq, Feats\n",
        "        # [B, S, F] => [B, F, S]      \n",
        "        x = x.movedim(1, 2)  \n",
        "        # [B, F, S]       \n",
        "        x = self.cnn(x)\n",
        "        # [B, F, S] => [B, S, F]\n",
        "        x = x.movedim(1, 2)\n",
        "              \n",
        "        x = self.flatten(x)        \n",
        "        x = self.cls(x)\n",
        "        return x"
      ],
      "metadata": {
        "id": "fW6vj4OtUUC7"
      },
      "execution_count": 41,
      "outputs": []
    },
    {
      "cell_type": "markdown",
      "source": [
        "## 4.2 Inspección de la arquitectura"
      ],
      "metadata": {
        "id": "ODC-IzWJzQxj"
      }
    },
    {
      "cell_type": "code",
      "source": [
        "model = CNN()\n",
        "print(model)"
      ],
      "metadata": {
        "colab": {
          "base_uri": "https://localhost:8080/"
        },
        "id": "mT0nLFEmzTd4",
        "outputId": "8041b1fc-c652-4f01-bc08-bc75d9454a3e"
      },
      "execution_count": 42,
      "outputs": [
        {
          "output_type": "stream",
          "name": "stdout",
          "text": [
            "CNN(\n",
            "  (cnn): Sequential(\n",
            "    (0): Conv1d(1024, 285, kernel_size=(3,), stride=(1,), padding=(1,))\n",
            "    (1): ReLU()\n",
            "    (2): MaxPool1d(kernel_size=2, stride=2, padding=0, dilation=1, ceil_mode=False)\n",
            "  )\n",
            "  (flatten): Flatten(start_dim=1, end_dim=-1)\n",
            "  (cls): Linear(in_features=1425, out_features=11, bias=True)\n",
            ")\n"
          ]
        }
      ]
    },
    {
      "cell_type": "code",
      "source": [
        "summary(model, (1, 10, 1024), device='cpu', verbose=0)"
      ],
      "metadata": {
        "colab": {
          "base_uri": "https://localhost:8080/"
        },
        "id": "ogQXXo0Rzfuw",
        "outputId": "8c87eea0-187b-4268-a4b4-6eae8d460b73"
      },
      "execution_count": 43,
      "outputs": [
        {
          "output_type": "execute_result",
          "data": {
            "text/plain": [
              "==========================================================================================\n",
              "Layer (type:depth-idx)                   Output Shape              Param #\n",
              "==========================================================================================\n",
              "CNN                                      [1, 11]                   --\n",
              "├─Sequential: 1-1                        [1, 285, 5]               --\n",
              "│    └─Conv1d: 2-1                       [1, 285, 10]              875,805\n",
              "│    └─ReLU: 2-2                         [1, 285, 10]              --\n",
              "│    └─MaxPool1d: 2-3                    [1, 285, 5]               --\n",
              "├─Flatten: 1-2                           [1, 1425]                 --\n",
              "├─Linear: 1-3                            [1, 11]                   15,686\n",
              "==========================================================================================\n",
              "Total params: 891,491\n",
              "Trainable params: 891,491\n",
              "Non-trainable params: 0\n",
              "Total mult-adds (M): 8.77\n",
              "==========================================================================================\n",
              "Input size (MB): 0.04\n",
              "Forward/backward pass size (MB): 0.02\n",
              "Params size (MB): 3.57\n",
              "Estimated Total Size (MB): 3.63\n",
              "=========================================================================================="
            ]
          },
          "metadata": {},
          "execution_count": 43
        }
      ]
    },
    {
      "cell_type": "markdown",
      "source": [
        "## 4.3 Prueba de arquitectura"
      ],
      "metadata": {
        "id": "pM3YkSJuJkEI"
      }
    },
    {
      "cell_type": "code",
      "source": [
        "# inferencia con datos sintéticos\n",
        "x = torch.zeros(1, 10, 1024)\n",
        "y = model(x)\n",
        "print(y.shape)"
      ],
      "metadata": {
        "colab": {
          "base_uri": "https://localhost:8080/"
        },
        "id": "CiKRT4UjJnOs",
        "outputId": "5ce483c2-b2c4-45ed-da65-d027ac76db71"
      },
      "execution_count": 44,
      "outputs": [
        {
          "output_type": "stream",
          "name": "stdout",
          "text": [
            "torch.Size([1, 11])\n"
          ]
        }
      ]
    },
    {
      "cell_type": "markdown",
      "source": [
        "# 5 Entrenamiento"
      ],
      "metadata": {
        "id": "nkPpwNdaJv8U"
      }
    },
    {
      "cell_type": "markdown",
      "source": [
        "## 5.1 Ciclo de entrenamiento"
      ],
      "metadata": {
        "id": "Ua2vQ1T6J0uK"
      }
    },
    {
      "cell_type": "code",
      "source": [
        "# creamos un modelo\n",
        "model = CNN()\n",
        "\n",
        "# optimizador\n",
        "opt = optim.SGD(model.parameters(), lr=1e-3)\n",
        "# historial de pérdida\n",
        "loss_hist, acc_hist = [],[]\n",
        "loss_tr_hist = []\n",
        "\n",
        "# ciclo de entrenamiento\n",
        "EPOCHS = 50\n",
        "for epoch in range(EPOCHS):\n",
        "    \n",
        "    losses = []\n",
        "    # entrenamiento de una época\n",
        "    for x, y_true in trn_dl:\n",
        "        # hacemos inferencia para obtener los logits\n",
        "        y_lgts = model(x)\n",
        "        # calculamos la pérdida\n",
        "        loss = F.cross_entropy(y_lgts, y_true)\n",
        "        # vaciamos los gradientes\n",
        "        opt.zero_grad()\n",
        "        # retropropagamos\n",
        "        loss.backward()\n",
        "        # actulizamos parámetros\n",
        "        opt.step()\n",
        "        # guardamos históricos\n",
        "        losses.append(loss.item() * 100)\n",
        "    \n",
        "    loss = np.mean(losses)\n",
        "    loss_tr_hist.append(loss)\n",
        "\n",
        "    # evitamos que se registren las operaciones \n",
        "    # en la gráfica de cómputo\n",
        "    with torch.no_grad():\n",
        "\n",
        "        # modelo en modo de evaluación\n",
        "        model.eval()\n",
        "        \n",
        "        losses, accs = [], []\n",
        "        # validación de la época\n",
        "        for x, y_true in take(tst_dl, 10):\n",
        "            # hacemos inferencia para obtener los logits\n",
        "            y_lgts = model(x)\n",
        "            # calculamos las probabilidades\n",
        "            y_prob = F.softmax(y_lgts, 1)\n",
        "            # obtenemos la clase predicha\n",
        "            y_pred = torch.argmax(y_prob, 1)\n",
        "            \n",
        "            # calculamos la pérdida\n",
        "            loss = F.cross_entropy(y_lgts, y_true)\n",
        "            # calculamos la exactitud\n",
        "            acc = (y_true == y_pred).type(torch.float32).mean()\n",
        "\n",
        "            # guardamos históricos\n",
        "            losses.append(loss.item() * 100)\n",
        "            accs.append(acc.item() * 100)\n",
        "\n",
        "        # imprimimos métricas\n",
        "        loss = np.mean(losses)\n",
        "        acc = np.mean(accs)\n",
        "        print(f'E{epoch:2} loss={loss:6.2f} acc={acc:.2f}')\n",
        "        \n",
        "        # agregagmos al historial de pérdidas\n",
        "        loss_hist.append(loss)\n",
        "        acc_hist.append(acc)\n",
        "        # modelo en modo de entrenamiento\n",
        "        model.train()"
      ],
      "metadata": {
        "colab": {
          "base_uri": "https://localhost:8080/"
        },
        "id": "mKuGbhlXJxMj",
        "outputId": "d3453850-46f0-432e-8bcd-d17ffd486da0"
      },
      "execution_count": 45,
      "outputs": [
        {
          "output_type": "stream",
          "name": "stdout",
          "text": [
            "E 0 loss=239.04 acc=9.69\n",
            "E 1 loss=237.07 acc=18.44\n",
            "E 2 loss=235.84 acc=20.31\n",
            "E 3 loss=234.81 acc=21.56\n",
            "E 4 loss=233.99 acc=21.56\n",
            "E 5 loss=233.20 acc=20.62\n",
            "E 6 loss=232.51 acc=21.88\n",
            "E 7 loss=231.84 acc=21.56\n",
            "E 8 loss=231.14 acc=21.25\n",
            "E 9 loss=230.48 acc=21.25\n",
            "E10 loss=229.96 acc=20.62\n",
            "E11 loss=229.37 acc=19.69\n",
            "E12 loss=228.88 acc=20.62\n",
            "E13 loss=228.32 acc=19.69\n",
            "E14 loss=227.72 acc=19.69\n",
            "E15 loss=227.32 acc=21.25\n",
            "E16 loss=226.88 acc=21.56\n",
            "E17 loss=226.32 acc=20.94\n",
            "E18 loss=225.86 acc=22.19\n",
            "E19 loss=225.34 acc=21.88\n",
            "E20 loss=224.81 acc=22.19\n",
            "E21 loss=224.46 acc=22.50\n",
            "E22 loss=224.01 acc=22.50\n",
            "E23 loss=223.50 acc=22.19\n",
            "E24 loss=223.07 acc=22.81\n",
            "E25 loss=222.71 acc=23.44\n",
            "E26 loss=222.30 acc=23.44\n",
            "E27 loss=222.01 acc=24.38\n",
            "E28 loss=221.71 acc=23.75\n",
            "E29 loss=221.29 acc=24.06\n",
            "E30 loss=220.85 acc=24.38\n",
            "E31 loss=220.44 acc=24.38\n",
            "E32 loss=220.29 acc=25.00\n",
            "E33 loss=219.93 acc=25.31\n",
            "E34 loss=219.71 acc=26.56\n",
            "E35 loss=219.28 acc=25.94\n",
            "E36 loss=218.88 acc=26.56\n",
            "E37 loss=218.64 acc=27.19\n",
            "E38 loss=218.34 acc=27.19\n",
            "E39 loss=217.98 acc=27.50\n",
            "E40 loss=217.72 acc=27.19\n",
            "E41 loss=217.38 acc=26.88\n",
            "E42 loss=217.08 acc=26.88\n",
            "E43 loss=216.88 acc=26.56\n",
            "E44 loss=216.53 acc=26.88\n",
            "E45 loss=216.30 acc=26.56\n",
            "E46 loss=215.86 acc=26.88\n",
            "E47 loss=215.70 acc=26.56\n",
            "E48 loss=215.47 acc=26.88\n",
            "E49 loss=215.22 acc=26.88\n"
          ]
        }
      ]
    },
    {
      "cell_type": "markdown",
      "source": [
        "## 5.2 Gráfica de la pérdida"
      ],
      "metadata": {
        "id": "GHGy_9EeKN-r"
      }
    },
    {
      "cell_type": "markdown",
      "source": [
        "El modelo se ejecuta por 50 épocas, y posteriormente se imprime la perdida durante el entrenamiento y con el conjunto de validación."
      ],
      "metadata": {
        "id": "85UqtVGWEAtz"
      }
    },
    {
      "cell_type": "code",
      "source": [
        "fig, axs = plt.subplots(nrows=1, ncols=2, figsize=(15,5))\n",
        "\n",
        "axs[0].plot(loss_hist, 'r', label='Perdida')\n",
        "axs[0].title.set_text('Entrenamiento')\n",
        "axs[0].set_xlabel(u'Época')\n",
        "axs[0].legend()\n",
        "\n",
        "axs[1].plot(loss_tr_hist, 'r', label='Perdida')\n",
        "axs[1].title.set_text(\"Validación\")\n",
        "axs[1].set_xlabel(u'Época')\n",
        "axs[1].legend()\n",
        "plt.show()"
      ],
      "metadata": {
        "colab": {
          "base_uri": "https://localhost:8080/",
          "height": 352
        },
        "id": "hLo5y7zMKQoy",
        "outputId": "b0f3246f-ea69-4685-b8f1-f17e71ccbc1a"
      },
      "execution_count": 46,
      "outputs": [
        {
          "output_type": "display_data",
          "data": {
            "text/plain": [
              "<Figure size 1080x360 with 2 Axes>"
            ],
            "image/png": "[encoded data removed]"
          },
          "metadata": {
            "needs_background": "light"
          }
        }
      ]
    },
    {
      "cell_type": "markdown",
      "source": [
        "Grafica de exactitud en conjunto de validación"
      ],
      "metadata": {
        "id": "fgNxcqUfLwGv"
      }
    },
    {
      "cell_type": "code",
      "source": [
        "plt.plot(acc_hist, color='b')\n",
        "plt.xlabel('época')\n",
        "plt.ylabel('Exactitud')\n",
        "plt.show()"
      ],
      "metadata": {
        "colab": {
          "base_uri": "https://localhost:8080/",
          "height": 280
        },
        "id": "Ay_Mg-U7LvrZ",
        "outputId": "620fc4f4-926f-4a25-f60c-867d93d12632"
      },
      "execution_count": 47,
      "outputs": [
        {
          "output_type": "display_data",
          "data": {
            "text/plain": [
              "<Figure size 432x288 with 1 Axes>"
            ],
            "image/png": "[encoded data removed]"
          },
          "metadata": {
            "needs_background": "light"
          }
        }
      ]
    },
    {
      "cell_type": "markdown",
      "source": [
        "# 5 Discusión"
      ],
      "metadata": {
        "id": "LkPQwJy569n7"
      }
    },
    {
      "cell_type": "markdown",
      "source": [
        "Para ambos modelos se grafica la perdida durante el entrenamiento y también en validación, estos fueron entrenados durante 50 épocas.  \n",
        "Existen diferencias significativas, para el caso de la RNN la pérdida baja considerablemente alrededor de la época 7 pero posteriormente esta comienza a subir, en el caso de la exactitud esta sube al punto en que la pérdida llega a su minimo y posteriormente se estanca en un valor promedio de 55. \n",
        "\n",
        "Por otro lado en el caso de la CNN la pérdida no presenta un cambio tan brusco esta decrece a un ritmo constante conforme pasan las épocas tanto en el entrenamiento como con el conjunto de validación, al igual que la pérdida la exactitud tiene aumento conforme pasan las épocas, solo alrededor de la época 15 decrece un poco pero de nuevo retoma su aumento, la exactitud mas alta obtenida fue de 27, mas bajo que el modelo de RNN.\n",
        "\n",
        "Comparando los dos modelos y observando las gráficas, se podría tener una mejor exactitud utilizando el modelo CNN teniendo mas ciclos de entrenamiento, es decir, se requiere de mas tiempo de entrenamiento. Por otro lado se observa que la RNN obtiene mejores resultados con minimos ciclos de entrenamiento. \n",
        "\n",
        "Con estos resultados se puede observar la ventaja que tienen los modelos RNN vs los CNN dado que los modelos RNN son mejores cuando se trabaja con datos secuenciales o temporales como los textos o video.\n",
        "\n",
        "Esta practica fue de bastante ayuda, dado que en mi tesis estoy trabajando con texto y he tenido algunos temas tratando de aplicar un modelo adecuado intentaré aplicar una RNN y veré si obtengo buenos resultados."
      ],
      "metadata": {
        "id": "-ZIJBdCE7CjE"
      }
    }
  ]
}