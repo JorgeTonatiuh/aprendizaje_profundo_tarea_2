{
  "nbformat": 4,
  "nbformat_minor": 0,
  "metadata": {
    "colab": {
      "provenance": [],
      "collapsed_sections": [],
      "authorship_tag": "ABX9TyNp1b+BJrtwyHqNbxU9YTMm",
      "include_colab_link": true
    },
    "kernelspec": {
      "name": "python3",
      "display_name": "Python 3"
    },
    "language_info": {
      "name": "python"
    }
  },
  "cells": [
    {
      "cell_type": "markdown",
      "metadata": {
        "id": "view-in-github",
        "colab_type": "text"
      },
      "source": [
        "<a href=\"https://colab.research.google.com/github/JorgeTonatiuh/aprendizaje_profundo_tarea_2/blob/main/operacion_de_convolucion.ipynb\" target=\"_parent\"><img src=\"https://colab.research.google.com/assets/colab-badge.svg\" alt=\"Open In Colab\"/></a>"
      ]
    },
    {
      "cell_type": "markdown",
      "source": [
        "# Operación de convolución"
      ],
      "metadata": {
        "id": "_SLxeW_yInke"
      }
    },
    {
      "cell_type": "markdown",
      "source": [
        "Extiende la operación de convolución para imágenes en escala de grises (un solo canal) a imágenes a color (múltiples canales)."
      ],
      "metadata": {
        "id": "IZXmp5dJJKOQ"
      }
    },
    {
      "cell_type": "code",
      "source": [
        "import matplotlib.pyplot as plt\n",
        "import numpy as np\n",
        "from sklearn.datasets import load_digits"
      ],
      "metadata": {
        "id": "NRNZNx_KIp3M"
      },
      "execution_count": 1,
      "outputs": []
    },
    {
      "cell_type": "markdown",
      "source": [
        "## Auxiliares"
      ],
      "metadata": {
        "id": "v_uJtYkAAf8c"
      }
    },
    {
      "cell_type": "markdown",
      "source": [
        "Para utilizar el dataset digits de sklearn, se definirá una función para agregar dos canales a la imagen de escala de grises y transformarla a una imagen ya sea roja o verde."
      ],
      "metadata": {
        "id": "mWIpncuKVEaa"
      }
    },
    {
      "cell_type": "code",
      "source": [
        "def color_grayscale_arr(arr, red=True):\n",
        "  \"\"\"Convierte imagen de escala de grises a una imagen roja o verde.\"\"\"\n",
        "  assert arr.ndim == 2\n",
        "  dtype = arr.dtype\n",
        "  h, w = arr.shape\n",
        "  arr = np.reshape(arr, [h, w, 1])\n",
        "  if red:\n",
        "    arr = np.concatenate([arr,\n",
        "                          np.zeros((h, w, 2), dtype=dtype)], axis=2)\n",
        "  else:\n",
        "    arr = np.concatenate([np.zeros((h, w, 1), dtype=dtype),\n",
        "                          arr,\n",
        "                          np.zeros((h, w, 1), dtype=dtype)], axis=2)\n",
        "  return arr"
      ],
      "metadata": {
        "id": "h0k0MG3zAjMK"
      },
      "execution_count": 2,
      "outputs": []
    },
    {
      "cell_type": "markdown",
      "source": [
        "Se define una función para agregar padding a una matriz 2d."
      ],
      "metadata": {
        "id": "S3x3XWM7Wb39"
      }
    },
    {
      "cell_type": "code",
      "source": [
        "def addPadding(I,p):\n",
        "  return np.pad(I,[(p, p), (p, p)], mode='constant', constant_values=0)"
      ],
      "metadata": {
        "id": "D6u-A__bWcs0"
      },
      "execution_count": 3,
      "outputs": []
    },
    {
      "cell_type": "markdown",
      "source": [
        "Se definen funciones para poder hacer un cambio de forma de las matrices de los digitos para representarlas ya sea en Channel first o Channel last."
      ],
      "metadata": {
        "id": "FIGSQRIQXzCQ"
      }
    },
    {
      "cell_type": "code",
      "source": [
        "def reshapeToChannelFirst(x):\n",
        "  x = np.moveaxis(x, -1, 0)\n",
        "  return x\n",
        "\n",
        "def reshapeToChannelLast(x):\n",
        "  x = np.moveaxis(x, 0, -1)\n",
        "  return x "
      ],
      "metadata": {
        "id": "cfZWG5kvXzl-"
      },
      "execution_count": 4,
      "outputs": []
    },
    {
      "cell_type": "markdown",
      "source": [
        "## Carga conjunto de datos de dígitos \n",
        "Vamos a cargar el conjunto de datos de dígitos usando la biblioteca `scikit-learn`. Este conjuntos de datos está compuesto por imágenes de $8 \\times 8$ de los dígitos $0-9$."
      ],
      "metadata": {
        "id": "1ZyxWHhg_jeD"
      }
    },
    {
      "cell_type": "code",
      "source": [
        "digits = load_digits() \n",
        "zeros_ones = digits.target < 2\n",
        "data = digits.images[zeros_ones]\n",
        "labels = digits.target[zeros_ones]"
      ],
      "metadata": {
        "id": "rRouAhhS_eYT"
      },
      "execution_count": 5,
      "outputs": []
    },
    {
      "cell_type": "markdown",
      "source": [
        "Cada elemento del arreglo 'data' tiene ya sea un dígito uno o cero."
      ],
      "metadata": {
        "id": "XjdDybDzXGhH"
      }
    },
    {
      "cell_type": "code",
      "source": [
        "data[0]"
      ],
      "metadata": {
        "colab": {
          "base_uri": "https://localhost:8080/"
        },
        "id": "OR8LZmIh_n62",
        "outputId": "9f2b0a6a-9d1c-4024-b4c1-c7ec8fd99e64"
      },
      "execution_count": 6,
      "outputs": [
        {
          "output_type": "execute_result",
          "data": {
            "text/plain": [
              "array([[ 0.,  0.,  5., 13.,  9.,  1.,  0.,  0.],\n",
              "       [ 0.,  0., 13., 15., 10., 15.,  5.,  0.],\n",
              "       [ 0.,  3., 15.,  2.,  0., 11.,  8.,  0.],\n",
              "       [ 0.,  4., 12.,  0.,  0.,  8.,  8.,  0.],\n",
              "       [ 0.,  5.,  8.,  0.,  0.,  9.,  8.,  0.],\n",
              "       [ 0.,  4., 11.,  0.,  1., 12.,  7.,  0.],\n",
              "       [ 0.,  2., 14.,  5., 10., 12.,  0.,  0.],\n",
              "       [ 0.,  0.,  6., 13., 10.,  0.,  0.,  0.]])"
            ]
          },
          "metadata": {},
          "execution_count": 6
        }
      ]
    },
    {
      "cell_type": "markdown",
      "source": [
        "Se le agregan los canales necesarios para convertir cada una de las imagenes en escala de grises a imagenes a color ya sea rojas o verdes."
      ],
      "metadata": {
        "id": "pRb6sB8HXkg9"
      }
    },
    {
      "cell_type": "code",
      "source": [
        "data = np.array([color_grayscale_arr(digit,labels[index]==1) for index,digit in enumerate(data)])"
      ],
      "metadata": {
        "id": "IhKbByg0As0O"
      },
      "execution_count": 7,
      "outputs": []
    },
    {
      "cell_type": "markdown",
      "source": [
        "Es conveniente normalizar los valores de las imágenes para que estén en el mismo rango ($0-1$). "
      ],
      "metadata": {
        "id": "jOBaeYb6_rzt"
      }
    },
    {
      "cell_type": "code",
      "source": [
        "data = data / data.max()"
      ],
      "metadata": {
        "id": "zvAtQ7m1_sUL"
      },
      "execution_count": 8,
      "outputs": []
    },
    {
      "cell_type": "markdown",
      "source": [
        "Ahora el conjuntos de datos está compuesto por imágenes de $8 \\times 8 \\times 3$ de los dígitos $0-9$, los ceros estan en color verde y los unos color rojo. Visualicemos 2 instancias de los dígitos $0$ y $1$:"
      ],
      "metadata": {
        "id": "kuQqABPu_z_C"
      }
    },
    {
      "cell_type": "code",
      "source": [
        "fig, axs = plt.subplots(1, 2, figsize=(10, 5))\n",
        "axs[0].imshow(data[0])\n",
        "axs[0].set_title('Ejemplo de dígito 0')\n",
        "axs[1].imshow(data[1]) \n",
        "axs[1].set_title('Ejemplo de dígito 1')\n",
        "plt.show() "
      ],
      "metadata": {
        "colab": {
          "base_uri": "https://localhost:8080/",
          "height": 318
        },
        "id": "-4kp5boo_0i4",
        "outputId": "0b3c42f3-dc95-4adb-d9bc-704104790181"
      },
      "execution_count": 9,
      "outputs": [
        {
          "output_type": "display_data",
          "data": {
            "text/plain": [
              "<Figure size 720x360 with 2 Axes>"
            ],
            "image/png": "[encoded data removed]"
          },
          "metadata": {
            "needs_background": "light"
          }
        }
      ]
    },
    {
      "cell_type": "markdown",
      "source": [
        "## Convolución\n",
        "Ahora consideremos las operación de convolución entre una imagen $I$ y un filtro $W$, la cual está definida por\n",
        "\n",
        "$$\n",
        "A_{i,j} = (\\mathbf{I} * \\mathbf{W})_{i,j} = \\sum_m \\sum_n I_{m, n} W_{i - m, j - n}\n",
        "$$\n",
        "\n",
        "La convolución es commutativa, por lo tanto \n",
        "\n",
        "$$\n",
        "A_{i,j} = (\\mathbf{W} * \\mathbf{I})_{i,j} = \\sum_m \\sum_n I_{i - m, j - n} W_{m,n}\n",
        "$$\n",
        "\n",
        "El resultado de estas operaciones es el mapa de activaciones $A(i,j)$. \n",
        "\n",
        "Para calcular el tamaño de la matriz resultante se utilizaron las siguientes definiciones.\n",
        "\n",
        "Entrada (channel first): \n",
        "$$ C_1 \\times H_1 \\times W_1 $$\n",
        "\n",
        "Hiperparámetros:\n",
        "\n",
        "$K:$ número de filtros, profundidad de la salida. \n",
        "\n",
        "$F:$ tamaño del filtro, extensión especial del filtro.\n",
        "\n",
        "$S:$ paso, cantidad de desplazamiento del filtro.\n",
        "\n",
        "$P:$ relleno, cantidad de aumento de ceros.\n",
        "\n",
        "Salida: $C_0 \\times H_0 \\times W_0$\n",
        "\n",
        "$H_0 = \\frac{(H_1-F+2P)}{S}+1$\n",
        "\n",
        "$W_0 = \\frac{(W_1-F+2P)}{S}+1$\n",
        "\n",
        "$C_0 = K$"
      ],
      "metadata": {
        "id": "xTpLyKsQocXK"
      }
    },
    {
      "cell_type": "code",
      "source": [
        "def conv2d(I, W, stride = 1, p=0):\n",
        "  \"\"\"Realiza la convolución entre una matriz 2d I y filtro W con un paso stride y padding p\"\"\"\n",
        "  h_s = int(np.floor((I.shape[0] - W.shape[0] + (2*p)) / stride)) + 1\n",
        "  w_s = int(np.floor((I.shape[1] - W.shape[1] + (2*p)) / stride)) + 1\n",
        "  a = np.zeros((h_s, w_s))\n",
        "  I = addPadding(I,p)\n",
        "  for i in range(h_s):\n",
        "    for j in range(w_s):\n",
        "      I_m = I[i * stride:i * stride + W.shape[0], j * stride:j * stride + W.shape[1]]\n",
        "      a[i, j] = (I_m * W).sum()\n",
        "                  \n",
        "  return a\n",
        "\n",
        "def convMultiChannel(I, W, b, stride = 1, p = 0):\n",
        "  \"\"\"Realiza la convolución entre una matriz 3d y filtro W con un paso stride y padding p\"\"\"\n",
        "  #'I' debe ser channel first\n",
        "  h_s = int(np.floor((I.shape[1] - W.shape[0] + (2*p)) / stride)) + 1\n",
        "  w_s = int(np.floor((I.shape[2] - W.shape[1] + (2*p)) / stride)) + 1\n",
        "  a = np.zeros((h_s, w_s))\n",
        "  for index,w in enumerate(W):\n",
        "    a = a + conv2d(I[index],w,stride,p)\n",
        "  a = a + b  \n",
        "  return a  \n",
        "\n",
        "#La siguiente función utiliza las funciones definidas previamnete para realizar \n",
        "#la convolución entre una matriz 3d y n filtros con un paso stride y padding p\n",
        "def convolve(I,W,b, stride = 1,p=0):\n",
        "    #'I' debe ser channel first\n",
        "    if(W.ndim==4):\n",
        "      filters_num = W.shape[0]\n",
        "      assert len(b) == filters_num\n",
        "      return np.array([convMultiChannel(I,W[i],b[i],stride,p) for i in range(filters_num)])\n",
        "    \n",
        "    return convMultiChannel(I,W,b,stride,p)\n"
      ],
      "metadata": {
        "id": "JQ9RqdzhQZeY"
      },
      "execution_count": 10,
      "outputs": []
    },
    {
      "cell_type": "markdown",
      "source": [
        "Para verificar el funcionamiento de la convolución se definirá una matriz $5 \\times 5 \\times 3$"
      ],
      "metadata": {
        "id": "1dzvogxfX5gc"
      }
    },
    {
      "cell_type": "code",
      "source": [
        "test = np.array([[[1,0,1,0,2],[1,1,3,2,1],[1,1,0,1,1],[2,3,2,1,3],[0,2,0,1,0]],\n",
        "                 [[1,0,0,1,0],[2,0,1,2,0],[3,1,1,3,0],[0,3,0,3,2],[1,0,3,2,1]],\n",
        "                 [[2,0,1,2,1],[3,3,1,3,2],[2,1,1,1,0],[3,1,3,2,0],[1,1,2,1,1]]])\n",
        "test"
      ],
      "metadata": {
        "colab": {
          "base_uri": "https://localhost:8080/"
        },
        "id": "drWmoYghYVFB",
        "outputId": "14a2764a-0d17-46dd-bac4-691c0608226c"
      },
      "execution_count": 11,
      "outputs": [
        {
          "output_type": "execute_result",
          "data": {
            "text/plain": [
              "array([[[1, 0, 1, 0, 2],\n",
              "        [1, 1, 3, 2, 1],\n",
              "        [1, 1, 0, 1, 1],\n",
              "        [2, 3, 2, 1, 3],\n",
              "        [0, 2, 0, 1, 0]],\n",
              "\n",
              "       [[1, 0, 0, 1, 0],\n",
              "        [2, 0, 1, 2, 0],\n",
              "        [3, 1, 1, 3, 0],\n",
              "        [0, 3, 0, 3, 2],\n",
              "        [1, 0, 3, 2, 1]],\n",
              "\n",
              "       [[2, 0, 1, 2, 1],\n",
              "        [3, 3, 1, 3, 2],\n",
              "        [2, 1, 1, 1, 0],\n",
              "        [3, 1, 3, 2, 0],\n",
              "        [1, 1, 2, 1, 1]]])"
            ]
          },
          "metadata": {},
          "execution_count": 11
        }
      ]
    },
    {
      "cell_type": "markdown",
      "source": [
        "Y un filtro $3 \\times 3 \\times 3$"
      ],
      "metadata": {
        "id": "xWOoerywYnb4"
      }
    },
    {
      "cell_type": "code",
      "source": [
        "filtro = np.array([[[0,1,0],[0,0,2],[0,1,0]],\n",
        "                [[2,1,0],[0,0,0],[0,3,0]],\n",
        "                [[1,0,0],[1,0,0],[0,0,2]]])\n",
        "filtro"
      ],
      "metadata": {
        "colab": {
          "base_uri": "https://localhost:8080/"
        },
        "id": "phUhEPLYYhv_",
        "outputId": "a8a31777-93e4-4ec3-d843-7dae5883b132"
      },
      "execution_count": 12,
      "outputs": [
        {
          "output_type": "execute_result",
          "data": {
            "text/plain": [
              "array([[[0, 1, 0],\n",
              "        [0, 0, 2],\n",
              "        [0, 1, 0]],\n",
              "\n",
              "       [[2, 1, 0],\n",
              "        [0, 0, 0],\n",
              "        [0, 3, 0]],\n",
              "\n",
              "       [[1, 0, 0],\n",
              "        [1, 0, 0],\n",
              "        [0, 0, 2]]])"
            ]
          },
          "metadata": {},
          "execution_count": 12
        }
      ]
    },
    {
      "cell_type": "markdown",
      "source": [
        "Enseguida se realiza la convolución entre la matrix y el filtro definidos."
      ],
      "metadata": {
        "id": "dolrio3jYwRi"
      }
    },
    {
      "cell_type": "code",
      "source": [
        "tc = convolve(test,filtro,0)\n",
        "tc"
      ],
      "metadata": {
        "colab": {
          "base_uri": "https://localhost:8080/"
        },
        "id": "hWL1Cl-7YruE",
        "outputId": "f28b4ef4-ab2c-4803-845d-5781f0749a10"
      },
      "execution_count": 13,
      "outputs": [
        {
          "output_type": "execute_result",
          "data": {
            "text/plain": [
              "array([[19., 13., 15.],\n",
              "       [28., 16., 20.],\n",
              "       [23., 18., 25.]])"
            ]
          },
          "metadata": {},
          "execution_count": 13
        }
      ]
    },
    {
      "cell_type": "markdown",
      "source": [
        "## Prueba con imagenes de dígitos"
      ],
      "metadata": {
        "id": "y-Gok_w6ZhXb"
      }
    },
    {
      "cell_type": "markdown",
      "source": [
        "### Filtro\n",
        "\n",
        "Definamos un filtro de $3 \\times 3 \\times 3$ que detecte bordes en cierta orientación:"
      ],
      "metadata": {
        "id": "VTBlLQJron7Q"
      }
    },
    {
      "cell_type": "code",
      "source": [
        "i = np.identity(3)\n",
        "filter1 = np.dstack([i] * 3)\n",
        "plt.imshow(filter1) \n",
        "plt.show()"
      ],
      "metadata": {
        "colab": {
          "base_uri": "https://localhost:8080/",
          "height": 269
        },
        "id": "GnKqAKbA4pCP",
        "outputId": "c0af2865-4907-4f1f-9ca0-437e0df669e5"
      },
      "execution_count": 14,
      "outputs": [
        {
          "output_type": "display_data",
          "data": {
            "text/plain": [
              "<Figure size 432x288 with 1 Axes>"
            ],
            "image/png": "[encoded data removed]"
          },
          "metadata": {
            "needs_background": "light"
          }
        }
      ]
    },
    {
      "cell_type": "markdown",
      "source": [
        "Aplicando las operaciones de convolución de varias imagenes del dígito $1$ con dicho filtro y variando algunos parámetros, obtenemos:"
      ],
      "metadata": {
        "id": "ZS88-uQza3_H"
      }
    },
    {
      "cell_type": "code",
      "source": [
        "a_1 = convolve(reshapeToChannelFirst(data[1]), filter1, 0)\n",
        "a_2 = convolve(reshapeToChannelFirst(data[3]), filter1, 0)\n",
        "a_3 = convolve(reshapeToChannelFirst(data[5]), filter1, 0)\n",
        "a_4 = convolve(reshapeToChannelFirst(data[8]), filter1, 0)\n",
        "a_5 = convolve(reshapeToChannelFirst(data[9]), filter1, 0)\n",
        "a_6 = convolve(reshapeToChannelFirst(data[13]), filter1, 0)\n",
        "\n",
        "b_1 = convolve(reshapeToChannelFirst(data[1]), filter1, 1,1,1)\n",
        "b_2 = convolve(reshapeToChannelFirst(data[3]), filter1, 1,1,1)\n",
        "b_3 = convolve(reshapeToChannelFirst(data[5]), filter1, 1,1,1)\n",
        "b_4 = convolve(reshapeToChannelFirst(data[8]), filter1, 1,1,1)\n",
        "b_5 = convolve(reshapeToChannelFirst(data[9]), filter1, 1,1,1)\n",
        "b_6 = convolve(reshapeToChannelFirst(data[13]), filter1, 1,1,1)\n",
        "\n",
        "c_1 = convolve(reshapeToChannelFirst(data[1]), filter1, 1,1,2)\n",
        "c_2 = convolve(reshapeToChannelFirst(data[3]), filter1, 1,1,2)\n",
        "c_3 = convolve(reshapeToChannelFirst(data[5]), filter1, 1,1,2)\n",
        "c_4 = convolve(reshapeToChannelFirst(data[8]), filter1, 1,1,2)\n",
        "c_5 = convolve(reshapeToChannelFirst(data[9]), filter1, 1,1,2)\n",
        "c_6 = convolve(reshapeToChannelFirst(data[13]), filter1, 1,1,2)\n",
        "\n",
        "d_1 = convolve(reshapeToChannelFirst(data[1]), filter1, 1,2,1)\n",
        "d_2 = convolve(reshapeToChannelFirst(data[3]), filter1, 1,2,1)\n",
        "d_3 = convolve(reshapeToChannelFirst(data[5]), filter1, 1,2,1)\n",
        "d_4 = convolve(reshapeToChannelFirst(data[8]), filter1, 1,2,1)\n",
        "d_5 = convolve(reshapeToChannelFirst(data[9]), filter1, 1,2,1)\n",
        "d_6 = convolve(reshapeToChannelFirst(data[13]), filter1, 1,2,1)\n",
        "\n",
        "e_1 = convolve(reshapeToChannelFirst(data[1]), filter1, 1,2,2)\n",
        "e_2 = convolve(reshapeToChannelFirst(data[3]), filter1, 1,2,2)\n",
        "e_3 = convolve(reshapeToChannelFirst(data[5]), filter1, 1,2,2)\n",
        "e_4 = convolve(reshapeToChannelFirst(data[8]), filter1, 1,2,2)\n",
        "e_5 = convolve(reshapeToChannelFirst(data[9]), filter1, 1,2,2)\n",
        "e_6 = convolve(reshapeToChannelFirst(data[13]), filter1, 1,2,2)\n",
        "\n",
        "f_1 = convolve(reshapeToChannelFirst(data[1]), filter1, 5,1,1)\n",
        "f_2 = convolve(reshapeToChannelFirst(data[3]), filter1, 5,1,1)\n",
        "f_3 = convolve(reshapeToChannelFirst(data[5]), filter1, 5,1,1)\n",
        "f_4 = convolve(reshapeToChannelFirst(data[8]), filter1, 5,1,1)\n",
        "f_5 = convolve(reshapeToChannelFirst(data[9]), filter1, 5,1,1)\n",
        "f_6 = convolve(reshapeToChannelFirst(data[13]), filter1, 5,1,1)\n",
        "\n",
        "fig, axs = plt.subplots(6, 7, figsize=(22, 10))\n",
        "axs[0,0].imshow(data[1])\n",
        "axs[0,0].set_title('Ejemplo de dígito 1.')\n",
        "axs[0,1].imshow(a_1)\n",
        "axs[0,2].imshow(f_1)\n",
        "axs[0,3].imshow(b_1)\n",
        "axs[0,4].imshow(c_1)\n",
        "axs[0,5].imshow(d_1)\n",
        "axs[0,6].imshow(e_1)\n",
        "\n",
        "axs[0,1].set_title('Convolución \\n sesgo:0, paso:1x1, pad:0')\n",
        "axs[0,2].set_title('Convolución \\n sesgo:5, paso:1x1, pad:1x1')\n",
        "axs[0,3].set_title('Convolución \\n sesgo:1, paso:1x1, pad:1x1')\n",
        "axs[0,4].set_title('Convolución \\n sesgo:1, paso:1x1, pad:2x2')\n",
        "axs[0,5].set_title('Convolución \\n sesgo:1, paso:2x2, pad:1x1')\n",
        "axs[0,6].set_title('Convolución \\n sesgo:1, paso:2x2, pad:2x2')\n",
        "\n",
        "\n",
        "axs[1,0].imshow(data[3])\n",
        "axs[1,1].imshow(a_2)\n",
        "axs[1,2].imshow(f_2)\n",
        "axs[1,3].imshow(b_2)\n",
        "axs[1,4].imshow(c_2)\n",
        "axs[1,5].imshow(d_2)\n",
        "axs[1,6].imshow(e_2)\n",
        "\n",
        "\n",
        "axs[2,0].imshow(data[5])\n",
        "axs[2,1].imshow(a_3)\n",
        "axs[2,2].imshow(f_3)\n",
        "axs[2,3].imshow(b_3)\n",
        "axs[2,4].imshow(c_3)\n",
        "axs[2,5].imshow(d_3)\n",
        "axs[2,6].imshow(e_3)\n",
        "\n",
        "axs[3,0].imshow(data[8])\n",
        "axs[3,1].imshow(a_4)\n",
        "axs[3,2].imshow(f_4)\n",
        "axs[3,3].imshow(b_4)\n",
        "axs[3,4].imshow(c_4)\n",
        "axs[3,5].imshow(d_4)\n",
        "axs[3,6].imshow(e_4)\n",
        "\n",
        "axs[4,0].imshow(data[9])\n",
        "axs[4,1].imshow(a_5)\n",
        "axs[4,2].imshow(f_5)\n",
        "axs[4,3].imshow(b_5)\n",
        "axs[4,4].imshow(c_5)\n",
        "axs[4,5].imshow(d_5)\n",
        "axs[4,6].imshow(e_5)\n",
        "\n",
        "axs[5,0].imshow(data[13])\n",
        "axs[5,1].imshow(a_6)\n",
        "axs[5,2].imshow(f_6)\n",
        "axs[5,3].imshow(b_6)\n",
        "axs[5,4].imshow(c_6)\n",
        "axs[5,5].imshow(d_6)\n",
        "axs[5,6].imshow(e_6)\n",
        "\n",
        "plt.show()"
      ],
      "metadata": {
        "colab": {
          "base_uri": "https://localhost:8080/",
          "height": 643
        },
        "id": "U0JlTYbcnwlO",
        "outputId": "8592bf95-135a-4224-9e74-28fc7190c8be"
      },
      "execution_count": 53,
      "outputs": [
        {
          "output_type": "display_data",
          "data": {
            "text/plain": [
              "<Figure size 1584x720 with 42 Axes>"
            ],
            "image/png": "[encoded data removed]"
          },
          "metadata": {
            "needs_background": "light"
          }
        }
      ]
    },
    {
      "cell_type": "markdown",
      "source": [
        "Aplicando las operaciones de convolución de varias imagenes del dígito $0$ con dicho filtro y variando algunos parámetros, obtenemos:"
      ],
      "metadata": {
        "id": "wy_eB1unDYKW"
      }
    },
    {
      "cell_type": "code",
      "source": [
        "a_1 = convolve(reshapeToChannelFirst(data[0]), filter1, 0)\n",
        "a_2 = convolve(reshapeToChannelFirst(data[2]), filter1, 0)\n",
        "a_3 = convolve(reshapeToChannelFirst(data[4]), filter1, 0)\n",
        "a_4 = convolve(reshapeToChannelFirst(data[6]), filter1, 0)\n",
        "a_5 = convolve(reshapeToChannelFirst(data[7]), filter1, 0)\n",
        "a_6 = convolve(reshapeToChannelFirst(data[10]), filter1, 0)\n",
        "\n",
        "b_1 = convolve(reshapeToChannelFirst(data[0]), filter1, 1,1,1)\n",
        "b_2 = convolve(reshapeToChannelFirst(data[2]), filter1, 1,1,1)\n",
        "b_3 = convolve(reshapeToChannelFirst(data[4]), filter1, 1,1,1)\n",
        "b_4 = convolve(reshapeToChannelFirst(data[6]), filter1, 1,1,1)\n",
        "b_5 = convolve(reshapeToChannelFirst(data[7]), filter1, 1,1,1)\n",
        "b_6 = convolve(reshapeToChannelFirst(data[10]), filter1, 1,1,1)\n",
        "\n",
        "c_1 = convolve(reshapeToChannelFirst(data[0]), filter1, 1,1,2)\n",
        "c_2 = convolve(reshapeToChannelFirst(data[2]), filter1, 1,1,2)\n",
        "c_3 = convolve(reshapeToChannelFirst(data[4]), filter1, 1,1,2)\n",
        "c_4 = convolve(reshapeToChannelFirst(data[6]), filter1, 1,1,2)\n",
        "c_5 = convolve(reshapeToChannelFirst(data[7]), filter1, 1,1,2)\n",
        "c_6 = convolve(reshapeToChannelFirst(data[10]), filter1, 1,1,2)\n",
        "\n",
        "d_1 = convolve(reshapeToChannelFirst(data[0]), filter1, 1,2,1)\n",
        "d_2 = convolve(reshapeToChannelFirst(data[2]), filter1, 1,2,1)\n",
        "d_3 = convolve(reshapeToChannelFirst(data[4]), filter1, 1,2,1)\n",
        "d_4 = convolve(reshapeToChannelFirst(data[6]), filter1, 1,2,1)\n",
        "d_5 = convolve(reshapeToChannelFirst(data[7]), filter1, 1,2,1)\n",
        "d_6 = convolve(reshapeToChannelFirst(data[10]), filter1, 1,2,1)\n",
        "\n",
        "e_1 = convolve(reshapeToChannelFirst(data[0]), filter1, 1,2,2)\n",
        "e_2 = convolve(reshapeToChannelFirst(data[2]), filter1, 1,2,2)\n",
        "e_3 = convolve(reshapeToChannelFirst(data[4]), filter1, 1,2,2)\n",
        "e_4 = convolve(reshapeToChannelFirst(data[6]), filter1, 1,2,2)\n",
        "e_5 = convolve(reshapeToChannelFirst(data[7]), filter1, 1,2,2)\n",
        "e_6 = convolve(reshapeToChannelFirst(data[10]), filter1, 1,2,2)\n",
        "\n",
        "f_1 = convolve(reshapeToChannelFirst(data[0]), filter1, 5,1,1)\n",
        "f_2 = convolve(reshapeToChannelFirst(data[2]), filter1, 5,1,1)\n",
        "f_3 = convolve(reshapeToChannelFirst(data[4]), filter1, 5,1,1)\n",
        "f_4 = convolve(reshapeToChannelFirst(data[6]), filter1, 5,1,1)\n",
        "f_5 = convolve(reshapeToChannelFirst(data[7]), filter1, 5,1,1)\n",
        "f_6 = convolve(reshapeToChannelFirst(data[10]), filter1, 5,1,1)\n",
        "\n",
        "fig, axs = plt.subplots(6, 7, figsize=(22, 10))\n",
        "axs[0,0].imshow(data[0])\n",
        "axs[0,0].set_title('Ejemplo de dígito 0.')\n",
        "axs[0,1].imshow(a_1)\n",
        "axs[0,2].imshow(f_1)\n",
        "axs[0,3].imshow(b_1)\n",
        "axs[0,4].imshow(c_1)\n",
        "axs[0,5].imshow(d_1)\n",
        "axs[0,6].imshow(e_1)\n",
        "\n",
        "axs[0,1].set_title('Convolución \\n sesgo:0, paso:1x1, pad:0')\n",
        "axs[0,2].set_title('Convolución \\n sesgo:5, paso:1x1, pad:1x1')\n",
        "axs[0,3].set_title('Convolución \\n sesgo:1, paso:1x1, pad:1x1')\n",
        "axs[0,4].set_title('Convolución \\n sesgo:1, paso:1x1, pad:2x2')\n",
        "axs[0,5].set_title('Convolución \\n sesgo:1, paso:2x2, pad:1x1')\n",
        "axs[0,6].set_title('Convolución \\n sesgo:1, paso:2x2, pad:2x2')\n",
        "\n",
        "\n",
        "axs[1,0].imshow(data[2])\n",
        "axs[1,1].imshow(a_2)\n",
        "axs[1,2].imshow(f_2)\n",
        "axs[1,3].imshow(b_2)\n",
        "axs[1,4].imshow(c_2)\n",
        "axs[1,5].imshow(d_2)\n",
        "axs[1,6].imshow(e_2)\n",
        "\n",
        "\n",
        "axs[2,0].imshow(data[4])\n",
        "axs[2,1].imshow(a_3)\n",
        "axs[2,2].imshow(f_3)\n",
        "axs[2,3].imshow(b_3)\n",
        "axs[2,4].imshow(c_3)\n",
        "axs[2,5].imshow(d_3)\n",
        "axs[2,6].imshow(e_3)\n",
        "\n",
        "axs[3,0].imshow(data[6])\n",
        "axs[3,1].imshow(a_4)\n",
        "axs[3,2].imshow(f_4)\n",
        "axs[3,3].imshow(b_4)\n",
        "axs[3,4].imshow(c_4)\n",
        "axs[3,5].imshow(d_4)\n",
        "axs[3,6].imshow(e_4)\n",
        "\n",
        "axs[4,0].imshow(data[7])\n",
        "axs[4,1].imshow(a_5)\n",
        "axs[4,2].imshow(f_5)\n",
        "axs[4,3].imshow(b_5)\n",
        "axs[4,4].imshow(c_5)\n",
        "axs[4,5].imshow(d_5)\n",
        "axs[4,6].imshow(e_5)\n",
        "\n",
        "axs[5,0].imshow(data[10])\n",
        "axs[5,1].imshow(a_6)\n",
        "axs[5,2].imshow(f_6)\n",
        "axs[5,3].imshow(b_6)\n",
        "axs[5,4].imshow(c_6)\n",
        "axs[5,5].imshow(d_6)\n",
        "axs[5,6].imshow(e_6)\n",
        "\n",
        "plt.show()"
      ],
      "metadata": {
        "colab": {
          "base_uri": "https://localhost:8080/",
          "height": 541
        },
        "id": "R4iKs6QekOfr",
        "outputId": "6d2df8d5-1d8f-48f2-cbf6-827cb983e935"
      },
      "execution_count": 56,
      "outputs": [
        {
          "output_type": "display_data",
          "data": {
            "text/plain": [
              "<Figure size 1584x720 with 42 Axes>"
            ],
            "image/png": "[encoded data removed]"
          },
          "metadata": {
            "needs_background": "light"
          }
        }
      ]
    },
    {
      "cell_type": "markdown",
      "source": [
        "Podemos definir otros filtros de $3\\times 3$:"
      ],
      "metadata": {
        "id": "aXWbXMqbo7E6"
      }
    },
    {
      "cell_type": "code",
      "source": [
        "indentity = np.identity(3)\n",
        "filters = np.zeros((4, 3, 3))\n",
        "filters[0, :, :] = indentity\n",
        "filters[1, 1, :] = 1\n",
        "filters[2, :, 1] = 1\n",
        "filters[3, :, :] = indentity[::-1]\n",
        "\n",
        "filt_1 = np.dstack([filters[0]] * 3)\n",
        "filt_2 = np.dstack([filters[1]] * 3)\n",
        "filt_3 = np.dstack([filters[2]] * 3)\n",
        "filt_4 = np.dstack([filters[3]] * 3)\n",
        "\n",
        "W = np.array([filt_1,filt_2,filt_3,filt_4])\n",
        "\n",
        "plt.subplot(1,4,1)\n",
        "plt.imshow(W[0]) \n",
        "plt.subplot(1,4,2)\n",
        "plt.imshow(W[1]) \n",
        "plt.subplot(1,4,3)\n",
        "plt.imshow(W[2]) \n",
        "plt.subplot(1,4,4)\n",
        "plt.imshow(W[3]) \n",
        "plt.show()"
      ],
      "metadata": {
        "colab": {
          "base_uri": "https://localhost:8080/",
          "height": 121
        },
        "id": "tCGUzgXDK681",
        "outputId": "b2458238-7857-44a1-f94b-97c94bd60d6a"
      },
      "execution_count": 72,
      "outputs": [
        {
          "output_type": "display_data",
          "data": {
            "text/plain": [
              "<Figure size 432x288 with 4 Axes>"
            ],
            "image/png": "[encoded data removed]"
          },
          "metadata": {
            "needs_background": "light"
          }
        }
      ]
    },
    {
      "cell_type": "markdown",
      "source": [
        "Se utiliza la funcion anteriormente definida para aplicar la convolución en las imágenes utilizando multiples filtros:"
      ],
      "metadata": {
        "id": "OQnTYbVMpAuH"
      }
    },
    {
      "cell_type": "code",
      "source": [
        "#Se define un sesgo por cada filtro\n",
        "b = [1,1,1,1]\n",
        "a_0 = convolve(reshapeToChannelFirst(data[0]), W, b, 1, 1)\n",
        "a_1 = convolve(reshapeToChannelFirst(data[1]), W, b, 1, 1)\n",
        "\n",
        "for i in range(4):\n",
        "  plt.subplot(3,4,i + 1)\n",
        "  plt.imshow(W[i])\n",
        "  plt.subplot(3,4,i + 5)\n",
        "  plt.imshow(a_0[i])\n",
        "  plt.subplot(3,4,i + 9)\n",
        "  plt.imshow(a_1[i])"
      ],
      "metadata": {
        "id": "Yd4HhskwpDvV",
        "colab": {
          "base_uri": "https://localhost:8080/",
          "height": 265
        },
        "outputId": "91bb5061-33df-4141-be5a-52c916fab13b"
      },
      "execution_count": 111,
      "outputs": [
        {
          "output_type": "display_data",
          "data": {
            "text/plain": [
              "<Figure size 432x288 with 12 Axes>"
            ],
            "image/png": "[encoded data removed]"
          },
          "metadata": {
            "needs_background": "light"
          }
        }
      ]
    },
    {
      "cell_type": "markdown",
      "source": [
        "Al realizar distintas pruebas variando los parámetros para la convolución se observa que puede ayudar significativamente a los modelos de clasificación.\n",
        "Así como los parámetros son importantes también el filtro que se ocupa influye bastante en la convolución, por ejemplo, en la última prueba que se realizó utilizando múltiples filtros, el segundo filtro utilizado no ayudó para nada debido a que la imagen utilizada es color rojo y el filtro solo tenía valores en el segundo canal, entonces todos los valores se hicieron 0 y no ayuda nada.\n",
        "\n",
        "Esto me ayuda bastante en el proyecto de tesis debido a que estoy trabajando con redes basadas en grafos utilizando convolución para extracción de características estilísticas de los diferentes autores de textos, entonces es interesante como se pueden aplicar estos métodos tanto para imagenes como para textos.\n"
      ],
      "metadata": {
        "id": "O-vf4-JZayII"
      }
    }
  ]
}