{
  "nbformat": 4,
  "nbformat_minor": 0,
  "metadata": {
    "colab": {
      "provenance": [],
      "collapsed_sections": [],
      "authorship_tag": "ABX9TyO6ynideLGuL6IYhYTTV4wf",
      "include_colab_link": true
    },
    "kernelspec": {
      "name": "python3",
      "display_name": "Python 3"
    },
    "language_info": {
      "name": "python"
    }
  },
  "cells": [
    {
      "cell_type": "markdown",
      "metadata": {
        "id": "view-in-github",
        "colab_type": "text"
      },
      "source": [
        "<a href=\"https://colab.research.google.com/github/JorgeTonatiuh/aprendizaje_profundo_tarea_2/blob/main/operacion_de_convolucion.ipynb\" target=\"_parent\"><img src=\"https://colab.research.google.com/assets/colab-badge.svg\" alt=\"Open In Colab\"/></a>"
      ]
    },
    {
      "cell_type": "markdown",
      "source": [
        "# Operación de convolución"
      ],
      "metadata": {
        "id": "_SLxeW_yInke"
      }
    },
    {
      "cell_type": "markdown",
      "source": [
        "Extiende la operación de convolución para imágenes en escala de grises (un solo canal) vista en\n",
        "clase (https://github.com/gibranfp/CursoAprendizajeProfundo/blob/2023-1/notebooks/2a_\n",
        "convolucion.ipynb) a imágenes a color (múltiples canales)."
      ],
      "metadata": {
        "id": "IZXmp5dJJKOQ"
      }
    },
    {
      "cell_type": "code",
      "source": [],
      "metadata": {
        "id": "NRNZNx_KIp3M"
      },
      "execution_count": null,
      "outputs": []
    }
  ]
}